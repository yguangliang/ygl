{
 "cells": [
  {
   "cell_type": "markdown",
   "metadata": {},
   "source": [
    "# dict:字典的特征\n",
    " - 字典是序列类型，但是是无序序列，所以不能使用切片和索引\n",
    " - 字典中的每个数据都由键值对组成，即kv对\n",
    "     - key 必须是可哈希的值，比如int, string, float, tuple, set, 但是list, set, dict不行\n",
    "     - value 可以是任何值"
   ]
  },
  {
   "cell_type": "markdown",
   "metadata": {},
   "source": [
    "# 字典的常见操作"
   ]
  },
  {
   "cell_type": "code",
   "execution_count": 12,
   "metadata": {},
   "outputs": [
    {
     "name": "stdout",
     "output_type": "stream",
     "text": [
      "[('one', 1), ('two', 2)]\n",
      "dict1: {'one': 1, 'two': 2}\n",
      "访问数据： 根据键来访问:\n",
      "dict[\"one\"]: 1\n"
     ]
    }
   ],
   "source": [
    "# 访问数据： 根据键来访问\n",
    "dict1 = dict(zip((\"one\",\"two\"),(1,2)))\n",
    "print(list(zip((\"one\",\"two\"),(1,2))))\n",
    "print(\"dict1:\",dict1)\n",
    "print(\"访问数据： 根据键来访问:\")\n",
    "print('dict[\"one\"]:',dict1[\"one\"])"
   ]
  },
  {
   "cell_type": "code",
   "execution_count": 17,
   "metadata": {},
   "outputs": [
    {
     "name": "stdout",
     "output_type": "stream",
     "text": [
      "dict1: {'one': 1, 'two': 2}\n",
      "dict1: {'one': 11, 'two': 2}\n"
     ]
    }
   ],
   "source": [
    "# 修改键的值\n",
    "dict1 = dict({\"one\":1,\"two\":2})\n",
    "print(\"dict1:\",dict1)\n",
    "dict1[\"one\"] = 11\n",
    "print(\"dict1:\",dict1)"
   ]
  },
  {
   "cell_type": "code",
   "execution_count": 24,
   "metadata": {},
   "outputs": [
    {
     "name": "stdout",
     "output_type": "stream",
     "text": [
      "dict1: {'one': 1, 'two': 2}\n",
      "dict1: {'two': 2}\n",
      "dict1: {'one': 1, 'two': 2}\n",
      "dict1已经删除\n"
     ]
    }
   ],
   "source": [
    "# 删除键值对del()\n",
    "dict1 = dict({\"one\":1,\"two\":2})\n",
    "print(\"dict1:\",dict1)\n",
    "del dict1[\"one\"]\n",
    "print(\"dict1:\",dict1)\n",
    "\n",
    "# 删除字典\n",
    "dict1 = dict({\"one\":1,\"two\":2})\n",
    "print(\"dict1:\",dict1)\n",
    "del dict1\n",
    "try: \n",
    "    print(\"dict1:\",dict1)\n",
    "except:\n",
    "    print(\"dict1已经删除\")"
   ]
  },
  {
   "cell_type": "code",
   "execution_count": 26,
   "metadata": {},
   "outputs": [
    {
     "name": "stdout",
     "output_type": "stream",
     "text": [
      "dict1: {'one': 1, 'two': 2, 'three': 3}\n",
      "检测的是key\n"
     ]
    }
   ],
   "source": [
    "# 成员检测： in， not\n",
    "# 成员检测检测的是key的名字\n",
    "dict1 = dict(one=1,two=2,three=3)\n",
    "print(\"dict1:\",dict1)\n",
    "if 2 in dict1:\n",
    "    print(\"检测的是value\")\n",
    "if \"two\" in dict1:\n",
    "    print(\"检测的是key\")\n",
    "if (\"two\",2) in dict1:\n",
    "    print(\"检测的是键值对\")\n"
   ]
  },
  {
   "cell_type": "code",
   "execution_count": 36,
   "metadata": {},
   "outputs": [
    {
     "name": "stdout",
     "output_type": "stream",
     "text": [
      "dict1: {'one': 1, 'two': 2, 'three': 3}\n",
      "\n",
      "直接使用key的值进行访问1:\n",
      "one 1\n",
      "two 2\n",
      "three 3\n",
      "\n",
      "\n",
      "直接使用key的值进行访问2:\n",
      "one 1\n",
      "two 2\n",
      "three 3\n",
      "\n",
      "\n",
      "只访问字典的键：\n",
      "one\n",
      "two\n",
      "three\n",
      "\n",
      "\n",
      "只访问字典的值：\n",
      "1\n",
      "2\n",
      "3\n",
      "\n",
      "\n",
      "特殊用法访问键值对：\n",
      "one  -  1\n",
      "two  -  2\n",
      "three  -  3\n"
     ]
    }
   ],
   "source": [
    "# 字典的遍历： for \n",
    "dict1 = dict(one=1, two=2, three=3)\n",
    "print(\"dict1:\",dict1)\n",
    "print()\n",
    "\n",
    "# 直接使用key的值进行访问1\n",
    "print(\"直接使用key的值进行访问1:\")\n",
    "for i in dict1:\n",
    "    print(i,dict1[i])\n",
    "print()    \n",
    "print()\n",
    "\n",
    "# 直接使用key的值进行访问2\n",
    "print(\"直接使用key的值进行访问2:\")\n",
    "for i in dict1.keys():\n",
    "    print(i,dict1[i])\n",
    "print()    \n",
    "print()\n",
    "\n",
    "# 只访问字典的值：\n",
    "print(\"只访问字典的键：\")\n",
    "for i in dict1.keys():\n",
    "    print(i)\n",
    "print()    \n",
    "print()    \n",
    "\n",
    "# 只访问字典的值：\n",
    "print(\"只访问字典的值：\")\n",
    "for i in dict1.values():\n",
    "    print(i)\n",
    "print()    \n",
    "print()\n",
    "\n",
    "# 特殊用法访问键值对：\n",
    "print(\"特殊用法访问键值对：\")\n",
    "for i,k in dict1.items():\n",
    "    print(i,\" - \",k)\n",
    "    "
   ]
  },
  {
   "cell_type": "code",
   "execution_count": null,
   "metadata": {},
   "outputs": [],
   "source": []
  },
  {
   "cell_type": "code",
   "execution_count": null,
   "metadata": {},
   "outputs": [],
   "source": []
  }
 ],
 "metadata": {
  "kernelspec": {
   "display_name": "Python 3",
   "language": "python",
   "name": "python3"
  },
  "language_info": {
   "codemirror_mode": {
    "name": "ipython",
    "version": 3
   },
   "file_extension": ".py",
   "mimetype": "text/x-python",
   "name": "python",
   "nbconvert_exporter": "python",
   "pygments_lexer": "ipython3",
   "version": "3.7.3"
  }
 },
 "nbformat": 4,
 "nbformat_minor": 2
}
