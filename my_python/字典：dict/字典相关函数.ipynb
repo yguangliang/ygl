{
 "cells": [
  {
   "cell_type": "markdown",
   "metadata": {},
   "source": [
    "# 字典相关函数"
   ]
  },
  {
   "cell_type": "code",
   "execution_count": 2,
   "metadata": {},
   "outputs": [
    {
     "name": "stdout",
     "output_type": "stream",
     "text": [
      "dict1: {'one': 1, 'two': 2, 'three': 3}\n",
      "str(dict1): {'one': 1, 'two': 2, 'three': 3}\n"
     ]
    }
   ],
   "source": [
    "# 通用函数： len, max, min, dict\n",
    "# str(字典)：返回字典的字符串格式\n",
    "dict1 = dict(one=1, two=2, three=3)\n",
    "print(\"dict1:\",dict1)\n",
    "print(\"str(dict1):\",str(dict1))"
   ]
  },
  {
   "cell_type": "code",
   "execution_count": 5,
   "metadata": {},
   "outputs": [
    {
     "name": "stdout",
     "output_type": "stream",
     "text": [
      "dict1: {'one': 1, 'two': 2, 'three': 3}\n",
      "dict1的id: 2701280054584\n",
      "dict1.clear(): {}\n",
      "dict1.clear()的id: 2701280054584\n"
     ]
    }
   ],
   "source": [
    "# clear :清空字典的键值对，id不改变\n",
    "dict1 = dict(one=1, two=2, three=3)\n",
    "print(\"dict1:\",dict1)\n",
    "print(\"dict1的id:\",id(dict1))\n",
    "dict1.clear()\n",
    "print(\"dict1.clear():\",dict1)\n",
    "print(\"dict1.clear()的id:\",id(dict1))"
   ]
  },
  {
   "cell_type": "code",
   "execution_count": 9,
   "metadata": {},
   "outputs": [
    {
     "name": "stdout",
     "output_type": "stream",
     "text": [
      "dict1: {'one': 1, 'two': 2, 'three': 3}\n",
      "dict1.items()的类型: <class 'dict_items'>\n",
      "dict1.items(): dict_items([('one', 1), ('two', 2), ('three', 3)])\n"
     ]
    }
   ],
   "source": [
    "# items():返回字典的键值对组成的可迭代结构\n",
    "dict1 = dict(one=1, two=2, three=3)\n",
    "print(\"dict1:\",dict1)\n",
    "print(\"dict1.items()的类型:\",type(dict1.items()))\n",
    "print(\"dict1.items():\",dict1.items())"
   ]
  },
  {
   "cell_type": "code",
   "execution_count": 10,
   "metadata": {},
   "outputs": [
    {
     "name": "stdout",
     "output_type": "stream",
     "text": [
      "dict1: {'one': 1, 'two': 2, 'three': 3}\n",
      "dict1.values()的类型: <class 'dict_values'>\n",
      "dict1.values(): dict_values([1, 2, 3])\n"
     ]
    }
   ],
   "source": [
    "# values():返回字典的值组成的可迭代结构\n",
    "dict1 = dict(one=1, two=2, three=3)\n",
    "print(\"dict1:\",dict1)\n",
    "print(\"dict1.values()的类型:\",type(dict1.values()))\n",
    "print(\"dict1.values():\",dict1.values())"
   ]
  },
  {
   "cell_type": "code",
   "execution_count": 11,
   "metadata": {},
   "outputs": [
    {
     "name": "stdout",
     "output_type": "stream",
     "text": [
      "dict1: {'one': 1, 'two': 2, 'three': 3}\n",
      "dict1.keys()的类型: <class 'dict_keys'>\n",
      "dict1.keys(): dict_keys(['one', 'two', 'three'])\n"
     ]
    }
   ],
   "source": [
    "# keys()：返回字典的键组成的可迭代结构\n",
    "dict1 = dict(one=1, two=2, three=3)\n",
    "print(\"dict1:\",dict1)\n",
    "print(\"dict1.keys()的类型:\",type(dict1.keys()))\n",
    "print(\"dict1.keys():\",dict1.keys())"
   ]
  },
  {
   "cell_type": "code",
   "execution_count": 22,
   "metadata": {},
   "outputs": [
    {
     "name": "stdout",
     "output_type": "stream",
     "text": [
      "dict1: {'one': 1, 'two': 2, 'three': 3}\n",
      "dict1.get('one'): 1\n",
      "dict1['one']: 1\n",
      "get()查找不存在的键：one1的值：不加后面参数默认返回None\n",
      "dict1.get('one1'): None\n",
      "get()查找不存在的键：one1的值：加后面参数返回添加的参数\n",
      "dict1.get('one1'，100): 100\n",
      "get()查找不存在的键：one1的值：出现异常\n"
     ]
    },
    {
     "ename": "KeyError",
     "evalue": "'one1'",
     "output_type": "error",
     "traceback": [
      "\u001b[1;31m---------------------------------------------------------------------------\u001b[0m",
      "\u001b[1;31mKeyError\u001b[0m                                  Traceback (most recent call last)",
      "\u001b[1;32m<ipython-input-22-1cd163fce652>\u001b[0m in \u001b[0;36m<module>\u001b[1;34m\u001b[0m\n\u001b[0;32m     20\u001b[0m \u001b[1;31m# get()查找不存在的键：one1的值：出现KeyError\u001b[0m\u001b[1;33m\u001b[0m\u001b[1;33m\u001b[0m\u001b[1;33m\u001b[0m\u001b[0m\n\u001b[0;32m     21\u001b[0m \u001b[0mprint\u001b[0m\u001b[1;33m(\u001b[0m\u001b[1;34m\"get()查找不存在的键：one1的值：出现异常\"\u001b[0m\u001b[1;33m)\u001b[0m\u001b[1;33m\u001b[0m\u001b[1;33m\u001b[0m\u001b[0m\n\u001b[1;32m---> 22\u001b[1;33m \u001b[0mprint\u001b[0m\u001b[1;33m(\u001b[0m\u001b[1;34m\"dict1['one1']:\"\u001b[0m\u001b[1;33m,\u001b[0m\u001b[0mdict1\u001b[0m\u001b[1;33m[\u001b[0m\u001b[1;34m'one1'\u001b[0m\u001b[1;33m]\u001b[0m\u001b[1;33m)\u001b[0m\u001b[1;33m\u001b[0m\u001b[1;33m\u001b[0m\u001b[0m\n\u001b[0m",
      "\u001b[1;31mKeyError\u001b[0m: 'one1'"
     ]
    }
   ],
   "source": [
    "# get()；根据相应的键来查找相应的值，当不存在这个键的时候，get(x，y)如果没有x,就返回y,不写y就默认返回None；\n",
    "# dict[i]: 根据相应的键来查找相应的值，当不存在这个键的时候,爆出异常；可以直接改变键的值\n",
    "dict1 = dict(one=1, two=2, three=3)\n",
    "print(\"dict1:\",dict1)\n",
    "\n",
    "# get()查找键为one的值：\n",
    "print(\"dict1.get('one'):\",dict1.get('one'))\n",
    "\n",
    "# dict[i]查找键为one的值\n",
    "print(\"dict1['one']:\",dict1['one'])\n",
    "\n",
    "# get()查找不存在的键：one1的值：不加后面参数默认返回None\n",
    "print(\"get()查找不存在的键：one1的值：不加后面参数默认返回None\")\n",
    "print(\"dict1.get('one1'):\",dict1.get('one1'))\n",
    "\n",
    "# get()查找不存在的键：one1的值：加后面参数返回添加的参数\n",
    "print(\"get()查找不存在的键：one1的值：加后面参数返回添加的参数\")\n",
    "print(\"dict1.get('one1'，100):\",dict1.get('one1',100))\n",
    "\n",
    "# get()查找不存在的键：one1的值：出现KeyError\n",
    "print(\"get()查找不存在的键：one1的值：出现异常\")\n",
    "print(\"dict1['one1']:\",dict1['one1'])"
   ]
  },
  {
   "cell_type": "code",
   "execution_count": 25,
   "metadata": {},
   "outputs": [
    {
     "name": "stdout",
     "output_type": "stream",
     "text": [
      "键序列list1: [0, 1, 2, 3, 4, 5, 6, 7, 8, 9]\n",
      "dict1: {0: '唯一的值', 1: '唯一的值', 2: '唯一的值', 3: '唯一的值', 4: '唯一的值', 5: '唯一的值', 6: '唯一的值', 7: '唯一的值', 8: '唯一的值', 9: '唯一的值'}\n"
     ]
    }
   ],
   "source": [
    "# dict.fromkeys(l.v):使用指定序列为键，唯一的值为值\n",
    "list1 = [i for i in range(10)]\n",
    "print(\"键序列list1:\",list1)\n",
    "dict1 = dict.fromkeys(list1,\"唯一的值\")\n",
    "print(\"dict1:\",dict1)"
   ]
  }
 ],
 "metadata": {
  "kernelspec": {
   "display_name": "Python 3",
   "language": "python",
   "name": "python3"
  },
  "language_info": {
   "codemirror_mode": {
    "name": "ipython",
    "version": 3
   },
   "file_extension": ".py",
   "mimetype": "text/x-python",
   "name": "python",
   "nbconvert_exporter": "python",
   "pygments_lexer": "ipython3",
   "version": "3.7.3"
  }
 },
 "nbformat": 4,
 "nbformat_minor": 2
}
