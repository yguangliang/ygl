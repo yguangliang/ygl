{
 "cells": [
  {
   "cell_type": "markdown",
   "metadata": {},
   "source": [
    "# 字典生成式"
   ]
  },
  {
   "cell_type": "code",
   "execution_count": 7,
   "metadata": {},
   "outputs": [
    {
     "name": "stdout",
     "output_type": "stream",
     "text": [
      "dict1： {'one': 1, 'two': 2, 'three': 3, 'four': 4}\n",
      "dict1生成的dict2： {'one': 1, 'two': 2, 'three': 3, 'four': 4}\n",
      "dict1中的值为偶数来生成的dict3: {'two': 2, 'four': 4}\n"
     ]
    }
   ],
   "source": [
    "# 字典生成式简单来说就是用一个列表生成另外的列表\n",
    "dict1 = dict(one=1, two=2, three=3, four=4)\n",
    "print(\"dict1：\",dict1)\n",
    "\n",
    "# 常规字典生成式\n",
    "dict2 = {k:v for k,v in dict1.items()}\n",
    "print(\"dict1生成的dict2：\",dict2)\n",
    "\n",
    "# 加限制条件的字典生成式\n",
    "dict3 = {k:v for k,v in dict1.items() if v % 2 ==0}\n",
    "print(\"dict1中的值为偶数来生成的dict3:\",dict3)"
   ]
  },
  {
   "cell_type": "code",
   "execution_count": null,
   "metadata": {},
   "outputs": [],
   "source": []
  }
 ],
 "metadata": {
  "kernelspec": {
   "display_name": "Python 3",
   "language": "python",
   "name": "python3"
  },
  "language_info": {
   "codemirror_mode": {
    "name": "ipython",
    "version": 3
   },
   "file_extension": ".py",
   "mimetype": "text/x-python",
   "name": "python",
   "nbconvert_exporter": "python",
   "pygments_lexer": "ipython3",
   "version": "3.7.3"
  }
 },
 "nbformat": 4,
 "nbformat_minor": 2
}
