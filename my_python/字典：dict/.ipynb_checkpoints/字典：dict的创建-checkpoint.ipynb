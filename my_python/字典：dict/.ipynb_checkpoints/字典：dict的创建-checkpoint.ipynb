{
 "cells": [
  {
   "cell_type": "markdown",
   "metadata": {},
   "source": [
    "# dict 字典的创建\n",
    " - 自定是一种没有顺序的组合数据，数据以键值对的形式出现"
   ]
  },
  {
   "cell_type": "code",
   "execution_count": 35,
   "metadata": {},
   "outputs": [
    {
     "name": "stdout",
     "output_type": "stream",
     "text": [
      "dict1: <class 'dict'>\n",
      "dict1: {}\n",
      "\n",
      "dict2: <class 'dict'>\n",
      "dict2: {}\n",
      "\n"
     ]
    }
   ],
   "source": [
    "# 字典的创建\n",
    "# 空字典的创建\n",
    "# 直接一个空大括号\n",
    "dict1 = {}\n",
    "print(\"dict1:\",type(dict1))\n",
    "print(\"dict1:\",dict1)\n",
    "print()\n",
    "\n",
    "del (dict)\n",
    "\n",
    "# 使用dict()方法,不知道为什么会报错\n",
    "dict2 = dict()\n",
    "print(\"dict2:\",type(dict2))\n",
    "print(\"dict2:\",dict2)\n",
    "print()\n"
   ]
  },
  {
   "cell_type": "code",
   "execution_count": 49,
   "metadata": {},
   "outputs": [
    {
     "name": "stdout",
     "output_type": "stream",
     "text": [
      "dict1: <class 'dict'>\n",
      "dict1: {'name': 'ygl', 'love': 123}\n",
      "\n",
      "传入映射对象，字典创建字典 :\n",
      "dict1: <class 'dict'>\n",
      "dict1: {'name': 'ygl', 'love': 123}\n",
      "\n",
      "用**kwargs可变参数传入关键字创建字典:\n",
      "dict1: <class 'dict'>\n",
      "dict1: {'one': 1, 'two': 2, 'three': 3}\n",
      "\n",
      "传入可迭代对象1:\n",
      "{'one': 1, 'two': 2}\n",
      "[('one', 1), ('two', 2)]\n",
      "dict1: <class 'dict'>\n",
      "{'one': 1, 'two': 2}\n",
      "\n",
      "传入可迭代对象2:\n",
      "dict1: <class 'dict'>\n",
      "{'one': 1, 'two': 2}\n",
      "\n",
      "如果键有重复，其值为最后重复项的值:\n",
      "dict1: <class 'dict'>\n",
      "{'one': 1, 'two': 3}\n",
      "\n"
     ]
    }
   ],
   "source": [
    "# 创建有值得字典，键和值用冒号隔开，每一组键值对用逗号隔开\n",
    "dict1 = {\"name\":\"ygl\",\"love\":123}\n",
    "print(\"dict1:\",type(dict1))\n",
    "print(\"dict1:\",dict1)\n",
    "print()\n",
    "\n",
    "# 传入映射对象，字典创建字典 \n",
    "print(\"传入映射对象，字典创建字典 :\")\n",
    "dict1 = dict({\"name\":\"ygl\",\"love\":123})\n",
    "print(\"dict1:\",type(dict1))\n",
    "print(\"dict1:\",dict1)\n",
    "print()\n",
    "\n",
    "# 用关键字kwards可变参数传入关键字创建字典\n",
    "print(\"用**kwargs可变参数传入关键字创建字典:\")\n",
    "dict1 = dict(one=1,two=2,three=3)\n",
    "print(\"dict1:\",type(dict1))\n",
    "print(\"dict1:\",dict1)\n",
    "print()\n",
    "\n",
    "# 传入可迭代对象1\n",
    "# zip() 函数用于将可迭代的对象作为参数，将对象中对应的元素打包成一个个元组，然后返回由这些元组组成的列表。\n",
    "#如果各个迭代器的元素个数不一致，则返回列表长度与最短的对象相同，利用 * 号操作符，可以将元组解压为列表\n",
    "\n",
    "print(\"传入可迭代对象1:\")\n",
    "dict1 = dict(zip([\"one\",\"two\"],[1,2]))\n",
    "print(dict1)\n",
    "print(list(zip([\"one\",\"two\"],[1,2])))\n",
    "print(\"dict1:\",type(dict1))\n",
    "print(dict1)\n",
    "print()\n",
    "\n",
    "# 传入可迭代对象2\n",
    "print(\"传入可迭代对象2:\")\n",
    "dict1 = dict([(\"one\",1),(\"two\",2)])\n",
    "print(\"dict1:\",type(dict1))\n",
    "print(dict1)\n",
    "print()\n",
    "\n",
    "# 如果键有重复，其值为最后重复项的值\n",
    "print(\"如果键有重复，其值为最后重复项的值:\")\n",
    "dict1 = dict([(\"one\",1),(\"two\",2),(\"two\",3)])\n",
    "print(\"dict1:\",type(dict1))\n",
    "print(dict1)\n",
    "print()"
   ]
  },
  {
   "cell_type": "code",
   "execution_count": null,
   "metadata": {},
   "outputs": [],
   "source": []
  }
 ],
 "metadata": {
  "kernelspec": {
   "display_name": "Python 3",
   "language": "python",
   "name": "python3"
  },
  "language_info": {
   "codemirror_mode": {
    "name": "ipython",
    "version": 3
   },
   "file_extension": ".py",
   "mimetype": "text/x-python",
   "name": "python",
   "nbconvert_exporter": "python",
   "pygments_lexer": "ipython3",
   "version": "3.7.3"
  }
 },
 "nbformat": 4,
 "nbformat_minor": 2
}
