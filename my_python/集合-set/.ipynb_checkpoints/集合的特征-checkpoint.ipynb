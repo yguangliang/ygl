{
 "cells": [
  {
   "cell_type": "markdown",
   "metadata": {},
   "source": [
    "# 集合的特征\n",
    " - 集合内数据无序，即无法使用索引和切片 (无序是说不能按照平常的逻辑来判断有序，其实也可以说是有序的：按照哈希值来排序)\n",
    " - 集合内部数据具有唯一性，可以用来排除重复数据\n",
    " - 集合内的数据，str,int,float,tuple,冰冻集合，即内部放置可哈希数据：( 改了值，id改变，可哈希；改了值，id不变，不可哈希)\n",
    " "
   ]
  },
  {
   "cell_type": "markdown",
   "metadata": {},
   "source": [
    "# 集合的序列操作"
   ]
  },
  {
   "cell_type": "code",
   "execution_count": 11,
   "metadata": {},
   "outputs": [
    {
     "name": "stdout",
     "output_type": "stream",
     "text": [
      "set1: {1, 2, 3, 4, 5, 6, 7, 8, 9}\n",
      "\n",
      "检测元素1是否在set1中：\n",
      "set1中存在元素1\n",
      "\n",
      "检测元素1是否不在set1中：\n",
      "set1中存在元素1\n"
     ]
    }
   ],
   "source": [
    "# 成员检测\n",
    "# in, not in\n",
    "set1 = set([i for i in range(1,10)])\n",
    "print(\"set1:\",set1)\n",
    "print()\n",
    "print(\"检测元素1是否在set1中：\")\n",
    "if 1 in set1:\n",
    "    print(\"set1中存在元素1\")\n",
    "else:\n",
    "    print(\"set1中不存在元素1\")\n",
    "    \n",
    "print()\n",
    "print(\"检测元素1是否不在set1中：\")\n",
    "if 1 not in set1:\n",
    "    print(\"set1中不存在元素1\")\n",
    "else:\n",
    "    print(\"set1中存在元素1\")\n"
   ]
  },
  {
   "cell_type": "markdown",
   "metadata": {},
   "source": [
    "# 集合的遍历操作"
   ]
  },
  {
   "cell_type": "code",
   "execution_count": 27,
   "metadata": {},
   "outputs": [
    {
     "name": "stdout",
     "output_type": "stream",
     "text": [
      "集合set1: {1, 2, 3, 4, 5, 6, 7, 8, 9}\n",
      "set1的遍历结果： 1 2 3 4 5 6 7 8 9 \n",
      "\n",
      "多层集合set1： {('I', 'love', 'you'), (4, 5, 6), (1, 2, 3)}\n",
      "直接遍历多层集合set1： ('I', 'love', 'you') (4, 5, 6) (1, 2, 3) \n",
      "\n",
      "多参数遍历多层集合set1：\n",
      "I -- love -- you\n",
      "4 -- 5 -- 6\n",
      "1 -- 2 -- 3\n"
     ]
    }
   ],
   "source": [
    "# for 循环\n",
    "# 单层set集合遍历\n",
    "set1 = set([i for i in range(1,10)])\n",
    "print(\"集合set1:\",set1)\n",
    "print(\"set1的遍历结果：\",end=\" \")\n",
    "for i in set1:\n",
    "    print(i,end=\" \")\n",
    "print()\n",
    "print()\n",
    "\n",
    "# 多层set集合遍历：元素可哈希，元素中的元素个数相同\n",
    "set1 = {(1, 2, 3), (\"I\", \"love\", \"you\"),( 4, 5, 6)}\n",
    "print(\"多层集合set1：\",set1)\n",
    "# 直接遍历\n",
    "print(\"直接遍历多层集合set1：\",end=\" \")\n",
    "for i in set1:\n",
    "    print(i,end=\" \")\n",
    "    \n",
    "print()\n",
    "print()\n",
    "# 多参数遍历\n",
    "print(\"多参数遍历多层集合set1：\")\n",
    "for k,m,n in set1:\n",
    "    print(k,\"--\",m,\"--\",n)"
   ]
  },
  {
   "cell_type": "markdown",
   "metadata": {},
   "source": [
    "# 集合的内涵"
   ]
  },
  {
   "cell_type": "code",
   "execution_count": 31,
   "metadata": {},
   "outputs": [
    {
     "name": "stdout",
     "output_type": "stream",
     "text": [
      "set1: {1, 6666, 333, 77777, 5555, 22, 88888, 88, 4444}\n",
      "set1: {1, 2, 3, 4, 5, 6, 7, 8, 9}\n"
     ]
    }
   ],
   "source": [
    "# 普通集合内涵\n",
    "# 以下集合在初始化后自动过滤掉重复元素\n",
    "\n",
    "# 普通集合内涵\n",
    "set1 = {1, 1, 1, 1, 1, 22, 333, 4444, 4444, 5555, 6666, 77777, 88888, 88}\n",
    "print(\"set1:\",set1)\n",
    "\n",
    "set1 = {i for i in range(1,10)}\n",
    "print(\"set1:\",set1)"
   ]
  },
  {
   "cell_type": "code",
   "execution_count": 34,
   "metadata": {},
   "outputs": [
    {
     "name": "stdout",
     "output_type": "stream",
     "text": [
      "set1: {8, 2, 4, 6}\n"
     ]
    }
   ],
   "source": [
    "# 带条件的集合内涵\n",
    "# 求偶数集合\n",
    "set1 = set(i for i in range(1,10) if i % 2 ==0)\n",
    "print(\"set1:\",set1)\n"
   ]
  },
  {
   "cell_type": "code",
   "execution_count": 40,
   "metadata": {},
   "outputs": [
    {
     "name": "stdout",
     "output_type": "stream",
     "text": [
      "set1: {1, 2, 3, 4}\n",
      "set2: {'love', 'you', 'I'}\n",
      "set3 {'lovelovelovelove', 'II', 'lovelove', 'youyou', 'IIII', 'youyouyouyou'}\n"
     ]
    }
   ],
   "source": [
    "# 多循环的集合内涵\n",
    "set1 = {i for i in range(1, 5)}\n",
    "print(\"set1:\",set1)\n",
    "set2 = {\"I\", \"love\", \"you\"}\n",
    "print(\"set2:\",set2)\n",
    "\n",
    "set3 = {m*n for m in set1 for n in set2 if m % 2 == 0}\n",
    "print(\"set3\",set3)"
   ]
  },
  {
   "cell_type": "markdown",
   "metadata": {},
   "source": [
    "# 集合函数/关于集合的函数"
   ]
  },
  {
   "cell_type": "code",
   "execution_count": 41,
   "metadata": {},
   "outputs": [
    {
     "name": "stdout",
     "output_type": "stream",
     "text": [
      "set1： {1, 2, 3, 4, 5, 6, 7, 8, 9}\n",
      "set1的长度： 9\n",
      "set1中最大的元素： 9\n",
      "set1中最小的元素： 1\n"
     ]
    }
   ],
   "source": [
    "# len, max, min:跟其他基本函数一致\n",
    "set1 = set(i for i in range(1,10))\n",
    "print(\"set1：\",set1)\n",
    "print(\"set1的长度：\",len(set1))\n",
    "print(\"set1中最大的元素：\",max(set1))\n",
    "print(\"set1中最小的元素：\",min(set1))"
   ]
  },
  {
   "cell_type": "code",
   "execution_count": 42,
   "metadata": {},
   "outputs": [
    {
     "name": "stdout",
     "output_type": "stream",
     "text": [
      "list1: [1, 2, 3, 4, 5, 6, 7, 8, 9]\n",
      "set1: {1, 2, 3, 4, 5, 6, 7, 8, 9}\n"
     ]
    }
   ],
   "source": [
    "# set: 生成一个集合\n",
    "list1 = [i for i in range(1,10)]\n",
    "print(\"list1:\",list1)\n",
    "set1 = set(list1)\n",
    "print(\"set1:\",set1)"
   ]
  },
  {
   "cell_type": "code",
   "execution_count": 44,
   "metadata": {},
   "outputs": [
    {
     "name": "stdout",
     "output_type": "stream",
     "text": [
      "set1： {1, 2, 3, 4, 5, 6, 7, 8, 9}\n",
      "set1： {1, 2, 3, 4, 5, 6, 7, 8, 9, 10}\n"
     ]
    }
   ],
   "source": [
    "# add: 向集合内添加元素\n",
    "set1 = set(i for i in range(1,10))\n",
    "print(\"set1：\",set1)\n",
    "set1.add(10)\n",
    "print(\"set1：\",set1)"
   ]
  },
  {
   "cell_type": "code",
   "execution_count": 46,
   "metadata": {},
   "outputs": [
    {
     "name": "stdout",
     "output_type": "stream",
     "text": [
      "set1： {1, 2, 3, 4, 5, 6, 7, 8, 9}\n",
      "set1的id： 1580166727720\n",
      "set1： set()\n",
      "set1清空元素的id： 1580166727720\n"
     ]
    }
   ],
   "source": [
    "# clear:清空集合里面的元素，id不变\n",
    "set1 = set(i for i in range(1,10))\n",
    "print(\"set1：\",set1)\n",
    "print(\"set1的id：\",id(set1))\n",
    "set1.clear()\n",
    "print(\"set1：\",set1)\n",
    "print(\"set1清空元素的id：\",id(set1))"
   ]
  },
  {
   "cell_type": "code",
   "execution_count": 49,
   "metadata": {},
   "outputs": [
    {
     "name": "stdout",
     "output_type": "stream",
     "text": [
      "set1： {1, 2, 3, 4, 5, 6, 7, 8, 9}\n",
      "discard移除set1不存在的元素100： {1, 2, 3, 4, 5, 6, 7, 8, 9}\n"
     ]
    }
   ],
   "source": [
    "# copy:拷贝\n",
    "# remove:移除指定的值:remove(ele)也是从集合中移除元素。如果该元素不存在于集合中，则会抛出KeyError；如果存在集合中，则会移除该元素并返回None。\n",
    "set1.discard(100)\n",
    "print(\"discard移除set1不存在的元素100：\",set1)\n"
   ]
  },
  {
   "cell_type": "code",
   "execution_count": 50,
   "metadata": {},
   "outputs": [
    {
     "name": "stdout",
     "output_type": "stream",
     "text": [
      "set1： {1, 2, 3, 4, 5, 6, 7, 8, 9}\n"
     ]
    },
    {
     "ename": "KeyError",
     "evalue": "100",
     "output_type": "error",
     "traceback": [
      "\u001b[1;31m---------------------------------------------------------------------------\u001b[0m",
      "\u001b[1;31mKeyError\u001b[0m                                  Traceback (most recent call last)",
      "\u001b[1;32m<ipython-input-50-1ae0c9f69c55>\u001b[0m in \u001b[0;36m<module>\u001b[1;34m\u001b[0m\n\u001b[0;32m      2\u001b[0m \u001b[0mset1\u001b[0m \u001b[1;33m=\u001b[0m \u001b[0mset\u001b[0m\u001b[1;33m(\u001b[0m\u001b[0mi\u001b[0m \u001b[1;32mfor\u001b[0m \u001b[0mi\u001b[0m \u001b[1;32min\u001b[0m \u001b[0mrange\u001b[0m\u001b[1;33m(\u001b[0m\u001b[1;36m1\u001b[0m\u001b[1;33m,\u001b[0m\u001b[1;36m10\u001b[0m\u001b[1;33m)\u001b[0m\u001b[1;33m)\u001b[0m\u001b[1;33m\u001b[0m\u001b[1;33m\u001b[0m\u001b[0m\n\u001b[0;32m      3\u001b[0m \u001b[0mprint\u001b[0m\u001b[1;33m(\u001b[0m\u001b[1;34m\"set1：\"\u001b[0m\u001b[1;33m,\u001b[0m\u001b[0mset1\u001b[0m\u001b[1;33m)\u001b[0m\u001b[1;33m\u001b[0m\u001b[1;33m\u001b[0m\u001b[0m\n\u001b[1;32m----> 4\u001b[1;33m \u001b[0mset1\u001b[0m\u001b[1;33m.\u001b[0m\u001b[0mremove\u001b[0m\u001b[1;33m(\u001b[0m\u001b[1;36m100\u001b[0m\u001b[1;33m)\u001b[0m\u001b[1;33m\u001b[0m\u001b[1;33m\u001b[0m\u001b[0m\n\u001b[0m\u001b[0;32m      5\u001b[0m \u001b[0mprint\u001b[0m\u001b[1;33m(\u001b[0m\u001b[1;34m\"remove移除set1不存在的元素100：\"\u001b[0m\u001b[1;33m,\u001b[0m\u001b[0mset1\u001b[0m\u001b[1;33m)\u001b[0m\u001b[1;33m\u001b[0m\u001b[1;33m\u001b[0m\u001b[0m\n",
      "\u001b[1;31mKeyError\u001b[0m: 100"
     ]
    }
   ],
   "source": [
    "# discard:移除集合中指定的值:discard(ele)将一个元素从集合中移除。如果元素不存在于集合中，它不会抛出KeyError；如果存在于集合中，则会移除数据并返回None。\n",
    "set1 = set(i for i in range(1,10))\n",
    "print(\"set1：\",set1)\n",
    "set1.remove(100)\n",
    "print(\"remove移除set1不存在的元素100：\",set1)"
   ]
  },
  {
   "cell_type": "code",
   "execution_count": 55,
   "metadata": {},
   "outputs": [
    {
     "name": "stdout",
     "output_type": "stream",
     "text": [
      "set1： {1, 2, 3, 4, 5, 6, 7, 8, 9}\n",
      "随机移除的set1： {2, 3, 4, 5, 6, 7, 8, 9}\n",
      "随机移除的set1： {3, 4, 5, 6, 7, 8, 9}\n",
      "随机移除的set1： {4, 5, 6, 7, 8, 9}\n"
     ]
    }
   ],
   "source": [
    "# pop：随机移除一个元素(其实内部是有一定的顺序规律的，只是不是平常的排序,是按照哈希地址从小到大进行移除)\n",
    "set1 = set(i for i in range(1,10))\n",
    "print(\"set1：\",set1)\n",
    "set1.pop()\n",
    "print(\"随机移除的set1：\",set1)\n",
    "set1.pop()\n",
    "print(\"随机移除的set1：\",set1)\n",
    "set1.pop()\n",
    "print(\"随机移除的set1：\",set1)"
   ]
  },
  {
   "cell_type": "code",
   "execution_count": 61,
   "metadata": {},
   "outputs": [
    {
     "name": "stdout",
     "output_type": "stream",
     "text": [
      "set1： {1, 2, 3, 4, 5, 6, 7, 8, 9}\n",
      "set2： {1, 2, 3, 4, 5}\n",
      "set1.intersection(set2): {1, 2, 3, 4, 5}\n",
      "set1.difference(set2): {8, 9, 6, 7}\n",
      "set1.union(set2): {1, 2, 3, 4, 5, 6, 7, 8, 9}\n",
      "set1.issubset(set2): False\n",
      "set1.issuperset(set2): True\n"
     ]
    }
   ],
   "source": [
    "# 集合中类似数学中的交叉并补\n",
    "# intersection ：交集\n",
    "# difference : 差集\n",
    "# union ：并集\n",
    "# issubset ;检查一个集合是否是另一个的子集\n",
    "# issuperset : 检查一个集合是否包含另一个集合\n",
    "\n",
    "set1 = set(i for i in range(1,10))\n",
    "print(\"set1：\",set1)\n",
    "set2 = set(i for i in range(1,6))\n",
    "print(\"set2：\",set2)\n",
    "print(\"set1.intersection(set2):\",set1.intersection(set2))\n",
    "print(\"set1.difference(set2):\",set1.difference(set2))\n",
    "print(\"set1.union(set2):\",set1.union(set2))\n",
    "print(\"set1.issubset(set2):\",set1.issubset(set2))\n",
    "print(\"set1.issuperset(set2):\",set1.issuperset(set2))"
   ]
  },
  {
   "cell_type": "markdown",
   "metadata": {},
   "source": [
    "# frozen set:冰冻集合\n",
    " - 冰冻就是不可以对里面的元素进行修改\n",
    " - frozenset 是一种特殊集合"
   ]
  },
  {
   "cell_type": "code",
   "execution_count": 64,
   "metadata": {},
   "outputs": [
    {
     "name": "stdout",
     "output_type": "stream",
     "text": [
      "frozenset1: <class 'frozenset'>\n",
      "frozenset1: frozenset({1, 2, 3, 4, 5, 6, 7, 8, 9})\n"
     ]
    }
   ],
   "source": [
    "# frozenset 的创建\n",
    "frozenset1 = frozenset(i for i in range(1,10))\n",
    "print(\"frozenset1:\",type(frozenset1))\n",
    "print(\"frozenset1:\",frozenset1)"
   ]
  }
 ],
 "metadata": {
  "kernelspec": {
   "display_name": "Python 3",
   "language": "python",
   "name": "python3"
  },
  "language_info": {
   "codemirror_mode": {
    "name": "ipython",
    "version": 3
   },
   "file_extension": ".py",
   "mimetype": "text/x-python",
   "name": "python",
   "nbconvert_exporter": "python",
   "pygments_lexer": "ipython3",
   "version": "3.7.3"
  }
 },
 "nbformat": 4,
 "nbformat_minor": 2
}
