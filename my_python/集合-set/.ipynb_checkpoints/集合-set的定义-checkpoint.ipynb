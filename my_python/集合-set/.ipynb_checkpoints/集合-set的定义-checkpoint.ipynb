{
 "cells": [
  {
   "cell_type": "markdown",
   "metadata": {},
   "source": [
    "# 集合-set的定义\n",
    " - 用大阔号包裹着的\n",
    " - 一堆确定的无序的数据，集合中的一个数据成为一个元素"
   ]
  },
  {
   "cell_type": "code",
   "execution_count": 7,
   "metadata": {},
   "outputs": [
    {
     "name": "stdout",
     "output_type": "stream",
     "text": [
      "定义一个空集合:\n",
      "set1的类型： <class 'set'>\n",
      "set1： set()\n",
      "\n",
      "定义一个非空集合:\n",
      "set1： {1, 2, 3}\n",
      "\n",
      "其他数据结构定义集合:\n",
      "set1： {1, 2, 3, 4, 5, 6, 7, 8, 9}\n",
      "\n",
      "如果只用大括号定义，则定义的是一个字典（dict）类型:\n",
      "dict1: {}\n",
      "dect1的类型： <class 'dict'>\n"
     ]
    }
   ],
   "source": [
    "# 集合的定义\n",
    "# 定义一个空集合\n",
    "print(\"定义一个空集合:\")\n",
    "set1 = set()\n",
    "print(\"set1的类型：\",type(set1))\n",
    "print(\"set1：\",set1)\n",
    "print()\n",
    "\n",
    "# 定义一个非空集合\n",
    "print(\"定义一个非空集合:\")\n",
    "set1 = {1, 2, 3}\n",
    "print(\"set1：\",set1)\n",
    "print()\n",
    "\n",
    "# 其他数据结构定义集合\n",
    "print(\"其他数据结构定义集合:\")\n",
    "set1 = set(i for i in range(1,10))\n",
    "print(\"set1：\",set1)\n",
    "print()\n",
    "\n",
    "# 如果只用大括号定义，则定义的是一个字典（dict）类型\n",
    "print(\"如果只用大括号定义，则定义的是一个字典（dict）类型:\")\n",
    "dict1 = {}\n",
    "print(\"dict1:\",dict1)\n",
    "print(\"dect1的类型：\",type(dict1))"
   ]
  }
 ],
 "metadata": {
  "kernelspec": {
   "display_name": "Python 3",
   "language": "python",
   "name": "python3"
  },
  "language_info": {
   "codemirror_mode": {
    "name": "ipython",
    "version": 3
   },
   "file_extension": ".py",
   "mimetype": "text/x-python",
   "name": "python",
   "nbconvert_exporter": "python",
   "pygments_lexer": "ipython3",
   "version": "3.7.3"
  }
 },
 "nbformat": 4,
 "nbformat_minor": 2
}
