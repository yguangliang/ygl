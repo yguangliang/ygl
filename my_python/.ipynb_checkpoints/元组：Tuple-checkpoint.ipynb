{
 "cells": [
  {
   "cell_type": "markdown",
   "metadata": {},
   "source": [
    "# 元组:TUPLE\n",
    " - 元组是一个不可更改的list"
   ]
  },
  {
   "cell_type": "code",
   "execution_count": 3,
   "metadata": {},
   "outputs": [
    {
     "name": "stdout",
     "output_type": "stream",
     "text": [
      "元组的类型： <class 'tuple'>\n"
     ]
    }
   ],
   "source": [
    "# 创建空元组\n",
    "tuple1 = ()\n",
    "print(\"元组的类型：\",type(tuple1))"
   ]
  },
  {
   "cell_type": "code",
   "execution_count": 19,
   "metadata": {},
   "outputs": [
    {
     "name": "stdout",
     "output_type": "stream",
     "text": [
      "括号表示运算符：\n",
      "int1的类型: <class 'int'>\n",
      "\n",
      "括号中的唯一元素后面加上逗号表示元组\n",
      "tuple2的类型： <class 'tuple'>\n",
      "元组tuple2的值: (1,)\n",
      "\n",
      "一个元素的元组的另外一种表示：直接在这个元素后面加上逗号\n",
      "tuple1的类型： <class 'tuple'>\n",
      "tuple1的值： (1,)\n"
     ]
    }
   ],
   "source": [
    "# 创建只有一个元素的元组,需要在元组唯一的元素后面加上逗号(,),这是为了区别运算符括号和元组\n",
    "print(\"括号表示运算符：\")\n",
    "int1 = (1)\n",
    "print(\"int1的类型:\",type(int1))\n",
    "print()\n",
    "print(\"括号中的唯一元素后面加上逗号表示元组\")\n",
    "tuple2 = (1,)\n",
    "print(\"tuple2的类型：\",type(tuple2))\n",
    "print(\"元组tuple2的值:\",tuple2)\n",
    "print(\"\")\n",
    "\n",
    "#一个元素的元组的另外一种表示：直接在这个元素后面加上逗号(,)\n",
    "print(\"一个元素的元组的另外一种表示：直接在这个元素后面加上逗号\")\n",
    "tuple1 = 1,\n",
    "print(\"tuple1的类型：\",type(tuple1))\n",
    "print(\"tuple1的值：\",tuple1)"
   ]
  },
  {
   "cell_type": "code",
   "execution_count": 27,
   "metadata": {},
   "outputs": [
    {
     "name": "stdout",
     "output_type": "stream",
     "text": [
      "元组创建：多个元素的元组\n",
      "用括号括起直接赋值:\n",
      "tuple1的类型： <class 'tuple'>\n",
      "tuple1的值： (1, 2, 3, 4)\n",
      "\n",
      "不用括号直接赋值:\n",
      "tuple1的类型： <class 'tuple'>\n",
      "tuple1的值： (1, 2, 3)\n",
      "\n",
      "使用其他结构创建：例如列表：list\n",
      "列表list1 [1, 2, 3, 4, 5]\n",
      "tuple1 <class 'tuple'>\n",
      "使用列表list1创建的tuple1: (1, 2, 3, 4, 5)\n"
     ]
    }
   ],
   "source": [
    "# 元组创建：多个元素的元组\n",
    "print(\"元组创建：多个元素的元组\")\n",
    "# 用括号括起直接赋值\n",
    "print(\"用括号括起直接赋值:\")\n",
    "tuple1 = (1, 2, 3, 4)\n",
    "print(\"tuple1的类型：\",type(tuple1))\n",
    "print(\"tuple1的值：\",tuple1)\n",
    "print(\"\")\n",
    "\n",
    "# 不用括号直接赋值\n",
    "print(\"不用括号直接赋值:\")\n",
    "tuple1 = 1, 2, 3\n",
    "print(\"tuple1的类型：\",type(tuple1))\n",
    "print(\"tuple1的值：\",tuple1)\n",
    "print(\"\")\n",
    "\n",
    "# 使用其他结构创建：例如列表：list\n",
    "print(\"使用其他结构创建：例如列表：list\")\n",
    "list1 = [i for i in range(1,6)]\n",
    "tuple1 = tuple(list1)\n",
    "print(\"列表list1\",list1)\n",
    "print(\"tuple1\",type(tuple1))\n",
    "print(\"使用列表list1创建的tuple1:\",tuple1)"
   ]
  },
  {
   "cell_type": "code",
   "execution_count": null,
   "metadata": {},
   "outputs": [],
   "source": []
  }
 ],
 "metadata": {
  "kernelspec": {
   "display_name": "Python 3",
   "language": "python",
   "name": "python3"
  },
  "language_info": {
   "codemirror_mode": {
    "name": "ipython",
    "version": 3
   },
   "file_extension": ".py",
   "mimetype": "text/x-python",
   "name": "python",
   "nbconvert_exporter": "python",
   "pygments_lexer": "ipython3",
   "version": "3.7.3"
  }
 },
 "nbformat": 4,
 "nbformat_minor": 2
}
