{
 "cells": [
  {
   "cell_type": "markdown",
   "metadata": {},
   "source": [
    "# list的基本操作"
   ]
  },
  {
   "cell_type": "code",
   "execution_count": 12,
   "metadata": {},
   "outputs": [
    {
     "name": "stdout",
     "output_type": "stream",
     "text": [
      "原来的：append_list =  [1, 2, 3, 4]\n",
      "使用apend函数在末尾添加一个元素变为： [1, 2, 3, 4, 100]\n"
     ]
    }
   ],
   "source": [
    "#append 末尾插入一个内容\n",
    "append_list = [i for i in range(1,5)]\n",
    "print(\"原来的：append_list = \",append_list)\n",
    "append_list.append(100)\n",
    "print(\"使用apend函数在末尾添加一个元素变为：\",append_list)"
   ]
  },
  {
   "cell_type": "code",
   "execution_count": 29,
   "metadata": {},
   "outputs": [
    {
     "name": "stdout",
     "output_type": "stream",
     "text": [
      "在insert_list的第四位后面插入20： [10, 11, 12, 40, 13, 14, 15, 16, 17, 18, 19]\n"
     ]
    }
   ],
   "source": [
    "#insert 在指定的位置插入，此函数有两个参数,(a,b)a为索引，b为插入的数\n",
    "insert_list = [i for i in range(10,20)]\n",
    "insert_list.insert(3,40)\n",
    "print(\"在insert_list的第四位后面插入20：\",insert_list)"
   ]
  },
  {
   "cell_type": "code",
   "execution_count": 24,
   "metadata": {},
   "outputs": [
    {
     "name": "stdout",
     "output_type": "stream",
     "text": [
      "要被删除的列表del_list为： [100, 101, 102, 103, 104, 105, 106, 107, 108, 109]\n",
      "删除索引为0的元素： [101, 102, 103, 104, 105, 106, 107, 108, 109]\n",
      "删除索引0到5的元素： [106, 107, 108, 109]\n"
     ]
    },
    {
     "ename": "NameError",
     "evalue": "name 'del_list' is not defined",
     "output_type": "error",
     "traceback": [
      "\u001b[1;31m---------------------------------------------------------------------------\u001b[0m",
      "\u001b[1;31mNameError\u001b[0m                                 Traceback (most recent call last)",
      "\u001b[1;32m<ipython-input-24-f0af642a3052>\u001b[0m in \u001b[0;36m<module>\u001b[1;34m\u001b[0m\n\u001b[0;32m     13\u001b[0m \u001b[1;31m# del 删除整个列表 ,打印汇报异常：列表未定义\u001b[0m\u001b[1;33m\u001b[0m\u001b[1;33m\u001b[0m\u001b[1;33m\u001b[0m\u001b[0m\n\u001b[0;32m     14\u001b[0m \u001b[1;32mdel\u001b[0m \u001b[0mdel_list\u001b[0m\u001b[1;33m\u001b[0m\u001b[1;33m\u001b[0m\u001b[0m\n\u001b[1;32m---> 15\u001b[1;33m \u001b[0mprint\u001b[0m\u001b[1;33m(\u001b[0m\u001b[1;34m\"删除列表del_list\"\u001b[0m\u001b[1;33m,\u001b[0m\u001b[0mdel_list\u001b[0m\u001b[1;33m)\u001b[0m\u001b[1;33m\u001b[0m\u001b[1;33m\u001b[0m\u001b[0m\n\u001b[0m",
      "\u001b[1;31mNameError\u001b[0m: name 'del_list' is not defined"
     ]
    }
   ],
   "source": [
    "# 删除 \n",
    "del_list = [i for i in range(100,110)]\n",
    "print(\"要被删除的列表del_list为：\",del_list)\n",
    "\n",
    "# 删除指定位置的值\n",
    "del del_list[0]\n",
    "print(\"删除索引为0的元素：\",del_list)\n",
    "\n",
    "# 删除一段位置的值:利用切片进行删除\n",
    "del del_list[0:5]\n",
    "print(\"删除索引0到5的元素：\",del_list)\n",
    "\n",
    "# del 删除整个列表 ,打印汇报异常：列表未定义\n",
    "del del_list\n",
    "print(\"删除列表del_list\",del_list)\n"
   ]
  },
  {
   "cell_type": "code",
   "execution_count": 33,
   "metadata": {},
   "outputs": [
    {
     "name": "stdout",
     "output_type": "stream",
     "text": [
      "pop_list: [20, 21, 22, 23, 24, 25, 26, 27, 28, 29]\n",
      "pop_list列表中拿掉最后一位元素： [20, 21, 22, 23, 24, 25, 26, 27, 28]\n"
     ]
    }
   ],
   "source": [
    "# pop 列表中拿掉最后一位元素，拿掉之后就不存在于列表中\n",
    "pop_list = [i for i in range(20,30)]\n",
    "print(\"pop_list:\",pop_list)\n",
    "pop_list.pop()\n",
    "print(\"pop_list列表中拿掉最后一位元素：\",pop_list)"
   ]
  },
  {
   "cell_type": "code",
   "execution_count": 46,
   "metadata": {},
   "outputs": [
    {
     "name": "stdout",
     "output_type": "stream",
     "text": [
      "根据值来删除的列表remove_list: [30, 31, 32, 33, 34, 35, 36, 37, 38, 39]\n",
      "未删除元素的列表remove_list的id： 1820708030088\n",
      "列表remove_list删除值为30的元素: [31, 32, 33, 34, 35, 36, 37, 38, 39]\n",
      "删除了元素的列表remove_list的id： 1820708030088\n",
      "remove_list中不存在值为100的元素\n",
      "演示删除不存在的值:100\n"
     ]
    },
    {
     "ename": "TypeError",
     "evalue": "'list' object is not callable",
     "output_type": "error",
     "traceback": [
      "\u001b[1;31m---------------------------------------------------------------------------\u001b[0m",
      "\u001b[1;31mTypeError\u001b[0m                                 Traceback (most recent call last)",
      "\u001b[1;32m<ipython-input-46-339cf2b36f83>\u001b[0m in \u001b[0;36m<module>\u001b[1;34m\u001b[0m\n\u001b[0;32m     16\u001b[0m \u001b[1;31m#演示删除不存在的值\u001b[0m\u001b[1;33m\u001b[0m\u001b[1;33m\u001b[0m\u001b[1;33m\u001b[0m\u001b[0m\n\u001b[0;32m     17\u001b[0m \u001b[0mprint\u001b[0m\u001b[1;33m(\u001b[0m\u001b[1;34m\"演示删除不存在的值:100\"\u001b[0m\u001b[1;33m)\u001b[0m\u001b[1;33m\u001b[0m\u001b[1;33m\u001b[0m\u001b[0m\n\u001b[1;32m---> 18\u001b[1;33m \u001b[0mremove_list\u001b[0m\u001b[1;33m(\u001b[0m\u001b[1;36m100\u001b[0m\u001b[1;33m)\u001b[0m\u001b[1;33m\u001b[0m\u001b[1;33m\u001b[0m\u001b[0m\n\u001b[0m",
      "\u001b[1;31mTypeError\u001b[0m: 'list' object is not callable"
     ]
    }
   ],
   "source": [
    "# remove 根据列表里面的元素的值进行删除,删除是直接在同一个列表中进行的：用id函数打印返回值一致\n",
    "remove_list = [i for i in range(30,40)]\n",
    "print(\"根据值来删除的列表remove_list:\",remove_list)\n",
    "print(\"未删除元素的列表remove_list的id：\",id(remove_list))\n",
    "remove_list.remove(30)\n",
    "print(\"列表remove_list删除值为30的元素:\",remove_list)\n",
    "print(\"删除了元素的列表remove_list的id：\",id(remove_list))\n",
    "\n",
    "#删除的元素不在列表中的时候，列表会报错，这时候应该使用try....except\n",
    "try:\n",
    "    remove_list(100)\n",
    "    print(\"列表remove_list删除值为100的元素:\",remove_list)\n",
    "except:\n",
    "    print(\"remove_list中不存在值为100的元素\")\n",
    "    \n",
    "#演示删除不存在的值\n",
    "print(\"演示删除不存在的值:100\")\n",
    "remove_list(100)\n"
   ]
  },
  {
   "cell_type": "code",
   "execution_count": 50,
   "metadata": {},
   "outputs": [
    {
     "name": "stdout",
     "output_type": "stream",
     "text": [
      "需要清空的列表clear_list： [40, 41, 42, 43, 44, 45, 46, 47, 48, 49]\n",
      "未清空之前的id: 1820708015560\n",
      "清空的列表clear_list： []\n",
      "清空之后的id: 1820708015560\n",
      "新建列表,让clear_list指向他，id为: 1820708052040\n"
     ]
    }
   ],
   "source": [
    "# 清空列表中的元素,id一致，说明清除是在原id基础上进行，但是列表还是原来的列表（id不变）\n",
    "clear_list = [i for i in range(40,50)]\n",
    "print(\"需要清空的列表clear_list：\",clear_list)\n",
    "print(\"未清空之前的id:\",id(clear_list))\n",
    "clear_list.clear()\n",
    "print(\"清空的列表clear_list：\",clear_list)\n",
    "print(\"清空之后的id:\",id(clear_list))\n",
    "\n",
    "# 清空列表中的元素,id不一致\n",
    "# 1.新建一个列表，让clear_list指向他，这时候clear_list指向新的列表，原来的列表可能还存在也可能不存在\n",
    "clear_list = []\n",
    "print(\"新建列表,让clear_list指向他，id为:\",id(clear_list))"
   ]
  },
  {
   "cell_type": "code",
   "execution_count": 53,
   "metadata": {},
   "outputs": [
    {
     "name": "stdout",
     "output_type": "stream",
     "text": [
      "原函数为： [1, 2, 3, 4, 5, 6, 7, 8, 9]\n",
      "原函数id: 1820707796168\n",
      "翻转后： [9, 8, 7, 6, 5, 4, 3, 2, 1]\n",
      "反转后id: 1820707796168\n"
     ]
    }
   ],
   "source": [
    "# reverse翻转列表内容，原地翻转\n",
    "reverse_list = [i for i in range(1,10)]\n",
    "print(\"原函数为：\",reverse_list)\n",
    "print(\"原函数id:\",id(reverse_list))\n",
    "reverse_list.reverse()\n",
    "print(\"翻转后：\",reverse_list)\n",
    "print(\"反转后id:\",id(reverse_list))\n"
   ]
  },
  {
   "cell_type": "code",
   "execution_count": 60,
   "metadata": {},
   "outputs": [
    {
     "name": "stdout",
     "output_type": "stream",
     "text": [
      "extend_list1: [1, 2, 3, 4, 5, 6, 7, 8, 9]\n",
      "extend_list2: [10, 11, 12, 13, 14, 15, 16, 17, 18, 19]\n",
      "拼接前的id: 1820708059336\n",
      "拼接后的列表： [1, 2, 3, 4, 5, 6, 7, 8, 9, 10, 11, 12, 13, 14, 15, 16, 17, 18, 19]\n",
      "拼接后的列表的id: 1820708059336\n",
      "extend_list3： [1, 2, 3, 4, 5, 6, 7, 8, 9]\n",
      "extend_list3的id： 1820706380360\n",
      "extend_list4： [[10, 11, 12, 13, 14, 15, 16, 17, 18, 19]]\n",
      "extend_list4： 1820708059464\n",
      "extend_list3+extend_list4： [1, 2, 3, 4, 5, 6, 7, 8, 9, [10, 11, 12, 13, 14, 15, 16, 17, 18, 19]]\n",
      "extend_list3+extend_list4的id： 1820708029576\n"
     ]
    }
   ],
   "source": [
    "# extend 扩展内容，两个列表，把一个列表直接拼接到另一个列表上\n",
    "extend_list1 = [i for i in range(1,10)]\n",
    "print(\"extend_list1:\",extend_list1)\n",
    "extend_list2 = [i for i in range(10,20)]\n",
    "print(\"extend_list2:\",extend_list2)\n",
    "print(\"拼接前的id:\",id(extend_list1))\n",
    "extend_list1.extend(extend_list2)\n",
    "print(\"拼接后的列表：\",extend_list1)\n",
    "print(\"拼接后的列表的id:\",id(extend_list1))\n",
    "\n",
    "# 使用加号（+）直接拼接,变成另外新的列表\n",
    "extend_list3 = [i for i in range(1,10)]\n",
    "print(\"extend_list3：\",extend_list3)\n",
    "print(\"extend_list3的id：\",id(extend_list3))\n",
    "extend_list4 = [[i for i in range(10,20)]]\n",
    "print(\"extend_list4：\",extend_list4)\n",
    "print(\"extend_list4：\",id(extend_list4))\n",
    "print(\"extend_list3+extend_list4：\",extend_list3+extend_list4)\n",
    "print(\"extend_list3+extend_list4的id：\",id(extend_list3+extend_list4))\n"
   ]
  },
  {
   "cell_type": "code",
   "execution_count": 61,
   "metadata": {},
   "outputs": [
    {
     "name": "stdout",
     "output_type": "stream",
     "text": [
      "count_list: [1, 1, 1, 12, 2, 2, 2, 2]\n",
      "count_list中元素1的个数： 3\n"
     ]
    }
   ],
   "source": [
    "# count 查找列表中元素的个数\n",
    "count_list = [1,1,1,12,2,2,2,2,]\n",
    "print(\"count_list:\",count_list)\n",
    "print(\"count_list中元素1的个数：\",count_list.count(1))"
   ]
  },
  {
   "cell_type": "code",
   "execution_count": 78,
   "metadata": {},
   "outputs": [
    {
     "name": "stdout",
     "output_type": "stream",
     "text": [
      "list1： [1, 2, 3, 4, 5]\n",
      "list1的id： 1820708087176\n",
      "list2： [1, 2, 3, 4, 5]\n",
      "list2的id： 1820708087176\n",
      "list2增加一个元素： [1, 2, 3, 4, 5, 6]\n",
      "list2增加一个元素的id： 1820708087176\n",
      "列表类型变量赋值，是传地址，所以list1变为： [1, 2, 3, 4, 5, 6]\n",
      "list1的id： 1820708087176\n",
      " \n",
      "copy:拷贝 ，浅拷贝;一个列表由另外一个列表赋值而来，生成一个数值相同的新列表，并且改变这个列表值时不改变原列表的值\n",
      "copy_list1： [1, 2, 3, 4, 5, 6, 7, 8, 9]\n",
      "copy_list1的id： 1820706387848\n",
      "copy_list1.copy()后copy_list2： [1, 2, 3, 4, 5, 6, 7, 8, 9]\n",
      "copy_list2的id： 1820708089288\n",
      "改变copy_list2的值：\n",
      "copy_list2.append(10)后copy_list2为： [1, 2, 3, 4, 5, 6, 7, 8, 9, 10]\n",
      "copy_list2的id： 1820708089288\n",
      "copy_list1的值不改变：\n",
      "copy_list1： [1, 2, 3, 4, 5, 6, 7, 8, 9]\n",
      "copy_list1的id： 1820706387848\n"
     ]
    }
   ],
   "source": [
    "# copy :拷贝 ，浅拷贝和 直接赋值（=）的区别\n",
    "\n",
    "# 列表类型变量赋值，是传地址\n",
    "list1 = [i for i in range(1,6)]\n",
    "print(\"list1：\",list1)\n",
    "print(\"list1的id：\",id(list1))\n",
    "\n",
    "list2 = list1\n",
    "print(\"list2：\",list2)\n",
    "print(\"list2的id：\",id(list2))\n",
    "# 变换list中元素的值：增删改查都行，增加为例,其中因为是传地址，所以list1中也增加了一个元素\n",
    "list2.append(6)\n",
    "print(\"list2增加一个元素：\",list2)\n",
    "print(\"list2增加一个元素的id：\",id(list2))\n",
    "print(\"列表类型变量赋值，是传地址，所以list1变为：\",list1)\n",
    "print(\"list1的id：\",id(list1))\n",
    "print(\" \")\n",
    "\n",
    "# copy:拷贝 ，浅拷贝;一个列表由另外一个列表赋值而来，生成一个数值相同的新列表，并且改变这个列表值时不改变原列表的值\n",
    "print(\"copy:拷贝 ，浅拷贝;一个列表由另外一个列表赋值而来，生成一个数值相同的新列表，并且改变这个列表值时不改变原列表的值\")\n",
    "copy_list1 = [i for i in range(1,10)]\n",
    "print(\"copy_list1：\",copy_list1)\n",
    "print(\"copy_list1的id：\",id(copy_list1))\n",
    "copy_list2 = copy_list1.copy()\n",
    "print(\"copy_list1.copy()后copy_list2：\",copy_list2)\n",
    "print(\"copy_list2的id：\",id(copy_list2))\n",
    "print(\"改变copy_list2的值：\")\n",
    "copy_list2.append(10)\n",
    "print(\"copy_list2.append(10)后copy_list2为：\",copy_list2)\n",
    "print(\"copy_list2的id：\",id(copy_list2))\n",
    "print(\"copy_list1的值不改变：\")\n",
    "print(\"copy_list1：\",copy_list1)\n",
    "print(\"copy_list1的id：\",id(copy_list1))"
   ]
  },
  {
   "cell_type": "code",
   "execution_count": 110,
   "metadata": {},
   "outputs": [
    {
     "name": "stdout",
     "output_type": "stream",
     "text": [
      "列表只有一层：列表里面没有嵌套列表时候使用浅拷贝：copy()\n",
      "源列表： [1, 2, 3, 4, 5, 6, 7, 8]\n",
      "源列表id： 1820708111688\n",
      "copy_list： [1, 2, 3, 4, 5, 6, 7, 8]\n",
      "copy_list的id： 1820707105800\n",
      "\n",
      "当列表中嵌套列表时候，改变嵌套列表中的列表的值时候，列表不改变,这就是浅拷贝中浅的意思\n",
      "源列表为： [1, 2, 3, [4, 5, 6]]\n",
      "源列表id： 1820708114120\n",
      "copy_list4： [1, 2, 3, [4, 5, 6]]\n",
      "copy_list4的id： 1820708059784\n",
      "\n",
      "改变嵌套列表中的列表元素\n",
      "copy_list4： [1, 2, 3, [4, 44, 6]]\n",
      "copy_list4的id： 1820708059784\n",
      "源列表为： [1, 2, 3, [4, 44, 6]]\n",
      "源列表id： 1820708114120\n",
      "\n",
      "source_list: [1, 2, [4, 5, 6]]\n",
      "source_list的id: 1820708029192\n",
      "deepcopy_list: [1, 2, [4, 5, 6]]\n",
      "deepcopy_list的id: 1820708060936\n",
      "\n",
      "改变深拷贝列表中嵌套列表的值，源列表不会改变值\n",
      "source_list: [1, 2, [4, 5, 6]]\n",
      "source_list的id: 1820708029192\n",
      "deepcopy_list: [1, 2, [44, 5, 6]]\n",
      "deepcopy_list的id: 1820708060936\n"
     ]
    }
   ],
   "source": [
    "import copy\n",
    "# 浅拷贝和深拷贝的区别\n",
    "# 浅拷贝只拷贝列表的一层，当列表中嵌套列表时候，列表中的列表改变，浅拷贝的列表不改变（id），也就是说还是同一个列表\n",
    "# 列表只有一层：列表里面没有嵌套列表\n",
    "print(\"列表只有一层：列表里面没有嵌套列表时候使用浅拷贝：copy()\")\n",
    "list1 = [i for i in range(1,9)]\n",
    "print(\"源列表：\",list1)\n",
    "print(\"源列表id：\",id(list1))\n",
    "copy_list = list1.copy()\n",
    "print(\"copy_list：\",copy_list)\n",
    "print(\"copy_list的id：\",id(copy_list))\n",
    "\n",
    "print(\"\")\n",
    "#当列表中嵌套列表时候，改变嵌套列表中的列表的值时候，列表不改变，这就是浅拷贝中浅的意思\n",
    "print(\"当列表中嵌套列表时候，改变嵌套列表中的列表的值时候，列表不改变,这就是浅拷贝中浅的意思\")\n",
    "list3 = [1,2,3,[4,5,6]]\n",
    "print(\"源列表为：\",list3)\n",
    "print(\"源列表id：\",id(list3))\n",
    "\n",
    "# 使用copy创建一个新的列表\n",
    "copy_list4 = list3.copy()\n",
    "print(\"copy_list4：\",copy_list4)\n",
    "print(\"copy_list4的id：\",id(copy_list4))\n",
    "print(\"\")\n",
    "\n",
    "#改变嵌套列表中的列表,由于嵌套的列表中的列表还是指向他自己的id,所以当他改变了源列表中嵌套的列表也会改变值\n",
    "print(\"改变嵌套列表中的列表元素\")\n",
    "copy_list4[3][1] = 44\n",
    "print(\"copy_list4：\",copy_list4)\n",
    "print(\"copy_list4的id：\",id(copy_list4))\n",
    "print(\"源列表为：\",list3)\n",
    "print(\"源列表id：\",id(list3))\n",
    "print(\"\")\n",
    "\n",
    "# 所以当使用浅拷贝拷贝列表（有嵌套列表：其中的一些元素为列表），只拷贝一层内容，改变列表嵌套列表中的列表的元素时候，源列表也会改变，\n",
    "# 这时候我们引入深拷贝\n",
    "# 深拷贝需要特定的工具，导入copy 模块\n",
    "source_list = [1, 2, [4, 5, 6]]\n",
    "print(\"source_list:\",source_list)\n",
    "print(\"source_list的id:\",id(source_list))\n",
    "deepcopy_list = copy.deepcopy(source_list)\n",
    "print(\"deepcopy_list:\",deepcopy_list)\n",
    "print(\"deepcopy_list的id:\",id(deepcopy_list))\n",
    "print(\"\")\n",
    "\n",
    "#改变深拷贝列表中嵌套列表的值，源列表不会改变值\n",
    "print(\"改变深拷贝列表中嵌套列表的值，源列表不会改变值\")\n",
    "deepcopy_list[2][0] = 44\n",
    "print(\"source_list:\",source_list)\n",
    "print(\"source_list的id:\",id(source_list))\n",
    "print(\"deepcopy_list:\",deepcopy_list)\n",
    "print(\"deepcopy_list的id:\",id(deepcopy_list))\n"
   ]
  }
 ],
 "metadata": {
  "kernelspec": {
   "display_name": "Python 3",
   "language": "python",
   "name": "python3"
  },
  "language_info": {
   "codemirror_mode": {
    "name": "ipython",
    "version": 3
   },
   "file_extension": ".py",
   "mimetype": "text/x-python",
   "name": "python",
   "nbconvert_exporter": "python",
   "pygments_lexer": "ipython3",
   "version": "3.7.3"
  }
 },
 "nbformat": 4,
 "nbformat_minor": 2
}
