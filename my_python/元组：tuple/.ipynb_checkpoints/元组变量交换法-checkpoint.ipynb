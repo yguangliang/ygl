{
 "cells": [
  {
   "cell_type": "markdown",
   "metadata": {},
   "source": [
    "# 元组变量交换法\n",
    " - 两个变量交换值"
   ]
  },
  {
   "cell_type": "code",
   "execution_count": 6,
   "metadata": {},
   "outputs": [
    {
     "name": "stdout",
     "output_type": "stream",
     "text": [
      "a = 1\n",
      "b = 3\n",
      "********************\n",
      "java程序员会这么写\n",
      "a = 3\n",
      "b = 1\n",
      "********************\n",
      "python程序员会这么写\n",
      "a = 1\n",
      "b = 3\n"
     ]
    }
   ],
   "source": [
    "# 两个变量交换值\n",
    "a = 1 \n",
    "b = 3\n",
    "print(\"a =\",a)\n",
    "print(\"b =\",b)\n",
    "print(\"*\"*20)\n",
    "\n",
    "# java程序员会这么写:\n",
    "print(\"java程序员会这么写\")\n",
    "c = a\n",
    "a = b\n",
    "b = c\n",
    "print(\"a =\",a)\n",
    "print(\"b =\",b)\n",
    "\n",
    "print(\"*\"*20)\n",
    "# python中的写法\n",
    "print(\"python程序员会这么写\")\n",
    "a,b = b,a\n",
    "print(\"a =\",a)\n",
    "print(\"b =\",b)"
   ]
  }
 ],
 "metadata": {
  "kernelspec": {
   "display_name": "Python 3",
   "language": "python",
   "name": "python3"
  },
  "language_info": {
   "codemirror_mode": {
    "name": "ipython",
    "version": 3
   },
   "file_extension": ".py",
   "mimetype": "text/x-python",
   "name": "python",
   "nbconvert_exporter": "python",
   "pygments_lexer": "ipython3",
   "version": "3.7.3"
  }
 },
 "nbformat": 4,
 "nbformat_minor": 2
}
