{
 "cells": [
  {
   "cell_type": "markdown",
   "metadata": {},
   "source": [
    "# # 元组的特点\n",
    "- 是序列表，有序的\n",
    "- 元组数据值可以访问，不能修改，不能修改，不能修改，不能修改，\n",
    "- 元组数据可以是任意类型\n",
    "- 总之，list列表的所有特性，除了可修改外，元组都具有\n",
    "- 也就意味着，list具有的一些操作，比如索引，分片，序列相加，相乘等"
   ]
  },
  {
   "cell_type": "code",
   "execution_count": 10,
   "metadata": {},
   "outputs": [
    {
     "name": "stdout",
     "output_type": "stream",
     "text": [
      "tuple1: (1, 2, 3, 4, 5, 6, 7, 8, 9)\n",
      "\n",
      "查找元元组中下标为1的元素tuple1[1]为 2\n",
      "\n",
      "超出下标会报异常，这时候用try...except包裹\n",
      "tuple1[100]下标超出范围了\n",
      "\n",
      "下标超出演示\n"
     ]
    },
    {
     "ename": "IndexError",
     "evalue": "tuple index out of range",
     "output_type": "error",
     "traceback": [
      "\u001b[1;31m---------------------------------------------------------------------------\u001b[0m",
      "\u001b[1;31mIndexError\u001b[0m                                Traceback (most recent call last)",
      "\u001b[1;32m<ipython-input-10-77dab49df279>\u001b[0m in \u001b[0;36m<module>\u001b[1;34m\u001b[0m\n\u001b[0;32m     18\u001b[0m \u001b[1;31m# 下标超出演示：\u001b[0m\u001b[1;33m\u001b[0m\u001b[1;33m\u001b[0m\u001b[1;33m\u001b[0m\u001b[0m\n\u001b[0;32m     19\u001b[0m \u001b[0mprint\u001b[0m\u001b[1;33m(\u001b[0m\u001b[1;34m\"下标超出演示\"\u001b[0m\u001b[1;33m)\u001b[0m\u001b[1;33m\u001b[0m\u001b[1;33m\u001b[0m\u001b[0m\n\u001b[1;32m---> 20\u001b[1;33m \u001b[0mprint\u001b[0m\u001b[1;33m(\u001b[0m\u001b[1;34m\"tuple1[100]:\"\u001b[0m\u001b[1;33m,\u001b[0m\u001b[0mtuple1\u001b[0m\u001b[1;33m[\u001b[0m\u001b[1;36m100\u001b[0m\u001b[1;33m]\u001b[0m\u001b[1;33m)\u001b[0m\u001b[1;33m\u001b[0m\u001b[1;33m\u001b[0m\u001b[0m\n\u001b[0m",
      "\u001b[1;31mIndexError\u001b[0m: tuple index out of range"
     ]
    }
   ],
   "source": [
    "# 查找元素：根据索引查找\n",
    "list1 = [i for i in range(1,10)]\n",
    "tuple1 = tuple(list1)\n",
    "print(\"tuple1:\",tuple1)\n",
    "print(\"\")\n",
    "# 查找元元组中下标为1的元素\n",
    "print(\"查找元元组中下标为1的元素tuple1[1]为\",tuple1[1])\n",
    "print()\n",
    "\n",
    "# 超出下标会报异常，这时候用try...except包裹\n",
    "print(\"超出下标会报异常，这时候用try...except包裹\")\n",
    "try:\n",
    "    print(\"tuple1[100]:\",tuple1[100])\n",
    "except:\n",
    "    print(\"tuple1[100]下标超出范围了\")\n",
    "print()\n",
    "\n",
    "# 下标超出演示：\n",
    "print(\"下标超出演示\")\n",
    "print(\"tuple1[100]:\",tuple1[100])"
   ]
  },
  {
   "cell_type": "code",
   "execution_count": 24,
   "metadata": {},
   "outputs": [
    {
     "name": "stdout",
     "output_type": "stream",
     "text": [
      "tuple1: (1, 2, 3, 4, 5, 6, 7, 8)\n",
      "tuple1的id: 2524796134232\n",
      "tuple2: (2, 4, 6, 8)\n",
      "tuple2的id: 2524798126424\n",
      "\n",
      "切片可以超标\n",
      "元组的超标切片： (3, 5, 7)\n",
      "\n",
      "序列相加,实际上是例外创建了一个元组\n",
      "tuple1 (1, 2, 3)\n",
      "tuple2 (4, 5, 6)\n",
      "tuple1+tuple2: (1, 2, 3, 4, 5, 6)\n",
      "\n",
      "元组的不可修改，指的是元组指向的物理地址里面的元素的具体元素内容不可修改\n",
      "元组的元素内容不可修改\n",
      "\n",
      "元组中元素内容不可修改异常展示如下：\n"
     ]
    },
    {
     "ename": "TypeError",
     "evalue": "'tuple' object does not support item assignment",
     "output_type": "error",
     "traceback": [
      "\u001b[1;31m---------------------------------------------------------------------------\u001b[0m",
      "\u001b[1;31mTypeError\u001b[0m                                 Traceback (most recent call last)",
      "\u001b[1;32m<ipython-input-24-a8e0ec3cf644>\u001b[0m in \u001b[0;36m<module>\u001b[1;34m\u001b[0m\n\u001b[0;32m     36\u001b[0m \u001b[1;31m# 元组中元素内容不可修改异常展示\u001b[0m\u001b[1;33m\u001b[0m\u001b[1;33m\u001b[0m\u001b[1;33m\u001b[0m\u001b[0m\n\u001b[0;32m     37\u001b[0m \u001b[0mprint\u001b[0m\u001b[1;33m(\u001b[0m\u001b[1;34m\"元组中元素内容不可修改异常展示如下：\"\u001b[0m\u001b[1;33m)\u001b[0m\u001b[1;33m\u001b[0m\u001b[1;33m\u001b[0m\u001b[0m\n\u001b[1;32m---> 38\u001b[1;33m \u001b[0mtuple1\u001b[0m\u001b[1;33m[\u001b[0m\u001b[1;36m0\u001b[0m\u001b[1;33m]\u001b[0m \u001b[1;33m=\u001b[0m \u001b[1;36m11\u001b[0m\u001b[1;33m\u001b[0m\u001b[1;33m\u001b[0m\u001b[0m\n\u001b[0m\u001b[0;32m     39\u001b[0m \u001b[0mprint\u001b[0m\u001b[1;33m(\u001b[0m\u001b[1;34m\"tuple1:\"\u001b[0m\u001b[1;33m,\u001b[0m\u001b[0mtuple1\u001b[0m\u001b[1;33m)\u001b[0m\u001b[1;33m\u001b[0m\u001b[1;33m\u001b[0m\u001b[0m\n",
      "\u001b[1;31mTypeError\u001b[0m: 'tuple' object does not support item assignment"
     ]
    }
   ],
   "source": [
    "# 元组中的切片,\n",
    "tuple1 = (1, 2, 3, 4, 5, 6, 7, 8)\n",
    "print(\"tuple1:\",tuple1)\n",
    "print(\"tuple1的id:\",id(tuple1))\n",
    "tuple2 = tuple1[1::2]\n",
    "print(\"tuple2:\",tuple2)\n",
    "print(\"tuple2的id:\",id(tuple2))\n",
    "print()\n",
    "\n",
    "# 切片可以超标\n",
    "print(\"切片可以超标\")\n",
    "tuple3 = tuple1[2:100:2]\n",
    "print(\"元组的超标切片：\",tuple3)\n",
    "print()\n",
    "\n",
    "# 序列相加,实际上是例外创建了一个元组 ，也就是说现在这个元组变量已经指向另外的一个地址了，就不存在说修改了元组\n",
    "print(\"序列相加,实际上是例外创建了一个元组\")\n",
    "tuple1 = (1, 2, 3)\n",
    "print(\"tuple1\",tuple1)\n",
    "tuple2 = (4, 5, 6)\n",
    "print(\"tuple2\",tuple2)\n",
    "print(\"tuple1+tuple2:\",tuple1+tuple2)\n",
    "print()\n",
    "\n",
    "# 元组的不可修改，指的是元组指向的物理地址里面的元素的具体元素内容不可修改\n",
    "print(\"元组的不可修改，指的是元组指向的物理地址里面的元素的具体元素内容不可修改\")\n",
    "tuple1 = (1, 2, 3, 4)\n",
    "# 修改元组中的值不可修改\n",
    "try:\n",
    "    tuple1[0] = 11\n",
    "    print(\"tuple1:\",tuple1)\n",
    "except:\n",
    "    print(\"元组的元素内容不可修改\")\n",
    "print()\n",
    "    \n",
    "# 元组中元素内容不可修改异常展示\n",
    "print(\"元组中元素内容不可修改异常展示如下：\")\n",
    "tuple1[0] = 11\n",
    "print(\"tuple1:\",tuple1)"
   ]
  },
  {
   "cell_type": "code",
   "execution_count": 28,
   "metadata": {},
   "outputs": [
    {
     "name": "stdout",
     "output_type": "stream",
     "text": [
      "源元组： (1, 2, 3)\n",
      "源元组id： 2524798144088\n",
      "tuple1乘以3后： (1, 2, 3, 1, 2, 3, 1, 2, 3)\n",
      "tuple1乘以3后id： 2524797032992\n"
     ]
    }
   ],
   "source": [
    "# 元组相乘：相乘之后已经变为例外的一个元组了，id已经改变\n",
    "tuple1 = (1, 2, 3)\n",
    "print(\"源元组：\",tuple1)\n",
    "print(\"源元组id：\",id(tuple1))\n",
    "\n",
    "tuple1 = tuple1 * 3\n",
    "print(\"tuple1乘以3后：\",tuple1)\n",
    "print(\"tuple1乘以3后id：\",id(tuple1))"
   ]
  },
  {
   "cell_type": "code",
   "execution_count": 32,
   "metadata": {},
   "outputs": [
    {
     "name": "stdout",
     "output_type": "stream",
     "text": [
      "成员检测：用关键字in来查找是否有这个元素\n",
      "tuple1: (1, 2, 3)\n",
      "元素1存在！\n"
     ]
    }
   ],
   "source": [
    "# 成员检测：用关键字in来查找是否有这个元素\n",
    "print(\"成员检测：用关键字in来查找是否有这个元素\")\n",
    "tuple1 = (1, 2, 3)\n",
    "print(\"tuple1:\",tuple1)\n",
    "if 1 in tuple1:\n",
    "    print(\"元素1存在！\")\n",
    "else:\n",
    "    print(\"元素1不存在！\")"
   ]
  },
  {
   "cell_type": "code",
   "execution_count": 65,
   "metadata": {},
   "outputs": [
    {
     "name": "stdout",
     "output_type": "stream",
     "text": [
      "单层元组tuple1: (1, 2, 3, 4)\n",
      "单层元组遍历,一般使用for循环:\n",
      "1 2 3 4 \n",
      "\n",
      "多层元组循环:\n",
      "源tuple1: ((1, 2), (11, 22), (33, 44))\n",
      "for循环tuple1: (1, 2) (11, 22) (33, 44) \n",
      "\n",
      "k,m表示的是子元组中的元素个数:\n",
      "1 --- 2 --\n",
      "11 --- 22 --\n",
      "33 --- 44 --\n"
     ]
    }
   ],
   "source": [
    "# 元组的遍历，一般采用for\n",
    "# 1.单层元组\n",
    "tuple1 = (1, 2, 3, 4)\n",
    "print(\"单层元组tuple1:\",tuple1)\n",
    "print(\"单层元组遍历,一般使用for循环:\")\n",
    "for i in tuple1:\n",
    "    print(i,end=\" \")\n",
    "print(\"\")\n",
    "print(\"\")\n",
    "\n",
    "# 2.多层元组循环:条件是子元组的元素需要个数需要相等\n",
    "print(\"多层元组循环:\")\n",
    "tuple1 = ((1,2),(11,22),(33,44))\n",
    "print(\"源tuple1:\",tuple1)\n",
    "\n",
    "print(\"for循环tuple1:\",end=\" \")\n",
    "for i in tuple1:\n",
    "    print(i,end=\" \")\n",
    "print(\"\")\n",
    "print(\"\")    \n",
    "\n",
    "\n",
    "#k,m表示的是子元组中的元素个数\n",
    "print(\"k,m表示的是子元组中的元素个数:\")\n",
    "for k,m, in tuple1:\n",
    "    print(k,\"---\",m,\"--\")"
   ]
  }
 ],
 "metadata": {
  "kernelspec": {
   "display_name": "Python 3",
   "language": "python",
   "name": "python3"
  },
  "language_info": {
   "codemirror_mode": {
    "name": "ipython",
    "version": 3
   },
   "file_extension": ".py",
   "mimetype": "text/x-python",
   "name": "python",
   "nbconvert_exporter": "python",
   "pygments_lexer": "ipython3",
   "version": "3.7.3"
  }
 },
 "nbformat": 4,
 "nbformat_minor": 2
}
