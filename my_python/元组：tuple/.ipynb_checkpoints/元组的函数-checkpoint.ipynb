{
 "cells": [
  {
   "cell_type": "markdown",
   "metadata": {},
   "source": [
    "# 元组的函数\n",
    " - 基本和list相同"
   ]
  },
  {
   "cell_type": "code",
   "execution_count": 2,
   "metadata": {},
   "outputs": [
    {
     "name": "stdout",
     "output_type": "stream",
     "text": [
      "tuple1： (1, 2, 3, 4, 5, 6, 7, 8, 9)\n",
      "tuple1中元素1出现的次数为： 1\n"
     ]
    }
   ],
   "source": [
    "# count:计算指定的参数出现的次数\n",
    "tuple1 = tuple([i for i in range(1,10)])\n",
    "print(\"tuple1：\",tuple1)\n",
    "print(\"tuple1中元素1出现的次数为：\",tuple1.count(1))"
   ]
  },
  {
   "cell_type": "code",
   "execution_count": 4,
   "metadata": {},
   "outputs": [
    {
     "name": "stdout",
     "output_type": "stream",
     "text": [
      "tuple1: (1, 2, 3, 1)\n",
      "tuple1中元素1第一次出现的索引为： 0\n"
     ]
    }
   ],
   "source": [
    "# index;计算元素在元组中第一次出现的索引\n",
    "tuple1 = (1, 2, 3, 1)\n",
    "print(\"tuple1:\",tuple1)\n",
    "print(\"tuple1中元素1第一次出现的索引为：\",tuple1.index(1))"
   ]
  }
 ],
 "metadata": {
  "kernelspec": {
   "display_name": "Python 3",
   "language": "python",
   "name": "python3"
  },
  "language_info": {
   "codemirror_mode": {
    "name": "ipython",
    "version": 3
   },
   "file_extension": ".py",
   "mimetype": "text/x-python",
   "name": "python",
   "nbconvert_exporter": "python",
   "pygments_lexer": "ipython3",
   "version": "3.7.3"
  }
 },
 "nbformat": 4,
 "nbformat_minor": 2
}
