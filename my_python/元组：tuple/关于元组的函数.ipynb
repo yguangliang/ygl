{
 "cells": [
  {
   "cell_type": "markdown",
   "metadata": {},
   "source": [
    "# 关于元组的函数\n",
    " - 和列表基本一致"
   ]
  },
  {
   "cell_type": "code",
   "execution_count": 1,
   "metadata": {},
   "outputs": [
    {
     "name": "stdout",
     "output_type": "stream",
     "text": [
      "list1: [1, 2, 3, 4, 5, 6, 7, 8]\n",
      "tuple1: (1, 2, 3, 4, 5, 6, 7, 8)\n",
      "tuple1的长度: 8\n"
     ]
    }
   ],
   "source": [
    "# len:获取元组的长度\n",
    "list1 = [i for i in range(1,9)]\n",
    "print(\"list1:\",list1)\n",
    "tuple1 = tuple(list1)\n",
    "print(\"tuple1:\",tuple1)\n",
    "print(\"tuple1的长度:\",len(tuple1))"
   ]
  },
  {
   "cell_type": "code",
   "execution_count": 9,
   "metadata": {},
   "outputs": [
    {
     "name": "stdout",
     "output_type": "stream",
     "text": [
      "tuple1: (1, 2, 3, 4, 5, 6, 7, 8, 9)\n",
      "tuple1中元素的最大值： 9\n",
      "tuple1中元素的最小值： 1\n",
      "\n",
      "tuple1: (1, 1, 2, 2)\n",
      "tuple1中元素的最大值： 2\n",
      "tuple1中元素的最大值中的第一个元素的id： 140708787610288\n",
      "tuple1中元素的最大值的id： 140708787610288\n",
      "\n",
      "tuple1中元素的最小值： 1\n",
      "tuple1中元素的最小值中的第一个元素的id： 140708787610256\n",
      "tuple1中元素的最大值的id： 140708787610256\n"
     ]
    }
   ],
   "source": [
    "# max,min:元组中元素的最大值和最小值\n",
    "list1 = [i for i in range(1,10)]\n",
    "tuple1 = tuple(list1)\n",
    "print(\"tuple1:\",tuple1)\n",
    "print(\"tuple1中元素的最大值：\",max(tuple1))\n",
    "print(\"tuple1中元素的最小值：\",min(tuple1))\n",
    "print()\n",
    "\n",
    "# 如果元素中有多个最大和最小的元素时候，取索引最前的元素\n",
    "tuple1 = (1, 1, 2, 2)\n",
    "print(\"tuple1:\",tuple1)\n",
    "print(\"tuple1中元素的最大值：\",max(tuple1))\n",
    "print(\"tuple1中元素的最大值中的第一个元素的id：\",id(tuple1[2]))\n",
    "print(\"tuple1中元素的最大值的id：\",id(max(tuple1)))\n",
    "print()\n",
    "\n",
    "print(\"tuple1中元素的最小值：\",min(tuple1))\n",
    "print(\"tuple1中元素的最小值中的第一个元素的id：\",id(tuple1[0]))\n",
    "print(\"tuple1中元素的最大值的id：\",id(min(tuple1)))"
   ]
  },
  {
   "cell_type": "code",
   "execution_count": 14,
   "metadata": {},
   "outputs": [
    {
     "name": "stdout",
     "output_type": "stream",
     "text": [
      "列表转换而得的元组tuple1: (1, 2, 3, 4, 5, 6, 7, 8, 9)\n",
      "列表转换而得的元组tuple1的id: 2902340360736\n",
      "\n",
      "tuple1 ()\n",
      "tuple1的id: 2902287056968\n"
     ]
    }
   ],
   "source": [
    "# 转换或创建元组\n",
    "list1 = [i for i in range(1,10)]\n",
    "tuple1 = tuple(list1)\n",
    "print(\"列表转换而得的元组tuple1:\",tuple1)\n",
    "print(\"列表转换而得的元组tuple1的id:\",id(tuple1))\n",
    "print()\n",
    "\n",
    "# 创建一个空列表\n",
    "# 改变tuple1的指向\n",
    "tuple1 = tuple()\n",
    "print(\"tuple1\",tuple1)\n",
    "print(\"tuple1的id:\",id(tuple1))"
   ]
  }
 ],
 "metadata": {
  "kernelspec": {
   "display_name": "Python 3",
   "language": "python",
   "name": "python3"
  },
  "language_info": {
   "codemirror_mode": {
    "name": "ipython",
    "version": 3
   },
   "file_extension": ".py",
   "mimetype": "text/x-python",
   "name": "python",
   "nbconvert_exporter": "python",
   "pygments_lexer": "ipython3",
   "version": "3.7.3"
  }
 },
 "nbformat": 4,
 "nbformat_minor": 2
}
